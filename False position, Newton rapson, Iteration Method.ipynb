{
  "nbformat": 4,
  "nbformat_minor": 0,
  "metadata": {
    "colab": {
      "name": "CE225 Soln.ipynb",
      "provenance": [],
      "authorship_tag": "ABX9TyNzmM223skGu9ron9QBb92I",
      "include_colab_link": true
    },
    "kernelspec": {
      "name": "python3",
      "display_name": "Python 3"
    },
    "language_info": {
      "name": "python"
    }
  },
  "cells": [
    {
      "cell_type": "markdown",
      "metadata": {
        "id": "view-in-github",
        "colab_type": "text"
      },
      "source": [
        "<a href=\"https://colab.research.google.com/github/zionmezba/Numerical-Methods/blob/main/False%20position%2C%20Newton%20rapson%2C%20Iteration%20Method.ipynb\" target=\"_parent\"><img src=\"https://colab.research.google.com/assets/colab-badge.svg\" alt=\"Open In Colab\"/></a>"
      ]
    },
    {
      "cell_type": "markdown",
      "metadata": {
        "id": "Bz69cSM-5Wtl"
      },
      "source": [
        "### False Position"
      ]
    },
    {
      "cell_type": "code",
      "metadata": {
        "id": "nY8au8oyNg4A"
      },
      "source": [
        "import math\n",
        "def fun(x):\n",
        "  #Enter your Equation\n",
        "  p = ((6*(x**3))+(x)-9)\n",
        "  return p\n",
        "\n",
        "x1 = float(input(\"Enter value of x1: \"))\n",
        "x2 = float(input(\"Enter value of x2: \"))\n",
        "print(\"False Position Solution: \")\n",
        "i = 0\n",
        "while True:\n",
        "  print(\"\\n\\n\")\n",
        "  print(\"Step: \",i+1) ; i+=1\n",
        "  print(\"x1 = \",round(x1,3))\n",
        "  print(\"x2 = \",round(x2,3))\n",
        "  print(\"f(x1) = \", round(fun(x1),2))\n",
        "  print(\"f(x2) = \", round(fun(x2),2))\n",
        "  x3  = x1 - (((x2-x1)*fun(x1))/(fun(x2)-fun(x1)))\n",
        "  print(\"x3 = \",round(x3,3))\n",
        "  print(\"f(x3)= \",round(fun(x3),3))\n",
        "  if round(x1,3) == round(x3,3):\n",
        "    break\n",
        "  if fun(x3) < 0:\n",
        "    x1 = x3\n",
        "  else:\n",
        "    x2 = x3\n",
        "\n"
      ],
      "execution_count": null,
      "outputs": []
    },
    {
      "cell_type": "markdown",
      "metadata": {
        "id": "LmGulHEs5d4W"
      },
      "source": [
        "### Newton Rapson"
      ]
    },
    {
      "cell_type": "code",
      "metadata": {
        "colab": {
          "base_uri": "https://localhost:8080/"
        },
        "id": "Bz376ccw5gom",
        "outputId": "41c6ed7a-a3ca-430b-833c-058869b1df68"
      },
      "source": [
        "import math\n",
        "def f(c):\n",
        "    #Enter your Equation\n",
        "    p = math.sin(c) + 9 * c - 6\n",
        "    return p\n",
        "\n",
        "def f1(c):\n",
        "    #Enter your Differentiated Equation\n",
        "    p = math.cos(x) + 9\n",
        "    return p\n",
        "\n",
        "x = float(input(\"Enter value of x0: \"))\n",
        "print(\"Newton rapson Solution: \")\n",
        "i=0\n",
        "while True:\n",
        "    print(\"\\n\")\n",
        "    print(\"Step: \",i+1); i+=1\n",
        "    print(\"xn = \",round(x,3))\n",
        "    print('f(xn) = ', round(f(x),3))\n",
        "    print('f1(xn) = ', round(f1(x),3))\n",
        "    v = x - (f(x)/f1(x))\n",
        "    print(\"xn+1 = \", round(v,3))\n",
        "    if round(v,3) == round(x,3):\n",
        "      break\n",
        "    else:\n",
        "      x = v\n",
        "    \n",
        "\n"
      ],
      "execution_count": 30,
      "outputs": [
        {
          "output_type": "stream",
          "name": "stdout",
          "text": [
            "Enter value of x0: 1\n",
            "Newton rapson Solution: \n",
            "\n",
            "\n",
            "Step:  1\n",
            "xn =  1.0\n",
            "f(xn) =  3.841\n",
            "f1(xn) =  9.54\n",
            "xn+1 =  0.597\n",
            "\n",
            "\n",
            "Step:  2\n",
            "xn =  0.597\n",
            "f(xn) =  -0.061\n",
            "f1(xn) =  9.827\n",
            "xn+1 =  0.604\n",
            "\n",
            "\n",
            "Step:  3\n",
            "xn =  0.604\n",
            "f(xn) =  -0.0\n",
            "f1(xn) =  9.823\n",
            "xn+1 =  0.604\n"
          ]
        }
      ]
    },
    {
      "cell_type": "markdown",
      "metadata": {
        "id": "ONObEXA_IghD"
      },
      "source": [
        ""
      ]
    },
    {
      "cell_type": "markdown",
      "metadata": {
        "id": "nta_myLzIitL"
      },
      "source": [
        "### Iteration Method"
      ]
    },
    {
      "cell_type": "code",
      "metadata": {
        "colab": {
          "base_uri": "https://localhost:8080/",
          "height": 128
        },
        "id": "AaPN3R4lIpRD",
        "outputId": "9dfd84e2-d774-4a4a-d065-dbb91ab7f08e"
      },
      "source": [
        "i = 0\n",
        "while True:\n",
        "  "
      ],
      "execution_count": 31,
      "outputs": [
        {
          "output_type": "error",
          "ename": "SyntaxError",
          "evalue": "ignored",
          "traceback": [
            "\u001b[0;36m  File \u001b[0;32m\"<ipython-input-31-40255aedc0f1>\"\u001b[0;36m, line \u001b[0;32m3\u001b[0m\n\u001b[0;31m    \u001b[0m\n\u001b[0m    ^\u001b[0m\n\u001b[0;31mSyntaxError\u001b[0m\u001b[0;31m:\u001b[0m unexpected EOF while parsing\n"
          ]
        }
      ]
    }
  ]
}